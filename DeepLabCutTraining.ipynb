{
  "nbformat": 4,
  "nbformat_minor": 0,
  "metadata": {
    "colab": {
      "name": "DeepLabCutTraining",
      "provenance": [],
      "collapsed_sections": [],
      "authorship_tag": "ABX9TyNLDT8H7sibGKaSUZJI2ER1",
      "include_colab_link": true
    },
    "kernelspec": {
      "name": "python3",
      "display_name": "Python 3"
    }
  },
  "cells": [
    {
      "cell_type": "markdown",
      "metadata": {
        "id": "view-in-github",
        "colab_type": "text"
      },
      "source": [
        "<a href=\"https://colab.research.google.com/github/gyilm039/TestRepository/blob/master/DeepLabCutTraining.ipynb\" target=\"_parent\"><img src=\"https://colab.research.google.com/assets/colab-badge.svg\" alt=\"Open In Colab\"/></a>"
      ]
    },
    {
      "cell_type": "markdown",
      "metadata": {
        "id": "eQI4V8PqztC6",
        "colab_type": "text"
      },
      "source": [
        "This is the notebook to train networks on DeepLabCut."
      ]
    }
  ]
}